{
 "cells": [
  {
   "cell_type": "code",
   "execution_count": 1,
   "metadata": {},
   "outputs": [],
   "source": [
    "import tensorflow as tf\n"
   ]
  },
  {
   "cell_type": "code",
   "execution_count": 2,
   "metadata": {},
   "outputs": [],
   "source": [
    "import pathlib\n",
    "import os\n",
    "#import matplotlib.pyplot as plt\n",
    "import pandas as pd\n",
    "import numpy as np\n",
    "\n",
    "np.set_printoptions(precision=4)"
   ]
  },
  {
   "cell_type": "code",
   "execution_count": 3,
   "metadata": {},
   "outputs": [],
   "source": [
    "import matplotlib.pyplot as plt"
   ]
  },
  {
   "cell_type": "code",
   "execution_count": 4,
   "metadata": {},
   "outputs": [],
   "source": [
    "from __future__ import absolute_import, division, print_function, unicode_literals\n",
    "import functools\n"
   ]
  },
  {
   "cell_type": "code",
   "execution_count": 5,
   "metadata": {},
   "outputs": [],
   "source": [
    "#train_data_url=\"C:/Users/khurd/Documents/295B/LandData.csv\"\n",
    "#train_file_path = tf.keras.utils.get_file(\"train.csv\",train_data_url)"
   ]
  },
  {
   "cell_type": "code",
   "execution_count": 6,
   "metadata": {},
   "outputs": [],
   "source": [
    "#defaults=[tf.int32]*55\n",
    "#dataset=tf.contrib.data.CsvDataset([\"C:/Users/khurd/Documents/295B/LandData.csv\"].defaults)\n",
    "#print(list(dataset.take(1)))"
   ]
  },
  {
   "cell_type": "code",
   "execution_count": 7,
   "metadata": {},
   "outputs": [],
   "source": [
    "df=pd.read_csv(\"C:/Users/khurd/Documents/295B/LandData.csv\")"
   ]
  },
  {
   "cell_type": "code",
   "execution_count": 8,
   "metadata": {},
   "outputs": [
    {
     "data": {
      "text/html": [
       "<div>\n",
       "<style scoped>\n",
       "    .dataframe tbody tr th:only-of-type {\n",
       "        vertical-align: middle;\n",
       "    }\n",
       "\n",
       "    .dataframe tbody tr th {\n",
       "        vertical-align: top;\n",
       "    }\n",
       "\n",
       "    .dataframe thead th {\n",
       "        text-align: right;\n",
       "    }\n",
       "</style>\n",
       "<table border=\"1\" class=\"dataframe\">\n",
       "  <thead>\n",
       "    <tr style=\"text-align: right;\">\n",
       "      <th></th>\n",
       "      <th>MSA</th>\n",
       "      <th>Date</th>\n",
       "      <th>Home Value</th>\n",
       "      <th>Structure Cost</th>\n",
       "      <th>Land Value</th>\n",
       "      <th>Land Share (Pct)</th>\n",
       "      <th>Home Price Index</th>\n",
       "      <th>Land Price Index</th>\n",
       "    </tr>\n",
       "  </thead>\n",
       "  <tbody>\n",
       "    <tr>\n",
       "      <th>0</th>\n",
       "      <td>ATLANTA</td>\n",
       "      <td>1984Q4</td>\n",
       "      <td>92559</td>\n",
       "      <td>67164</td>\n",
       "      <td>25394</td>\n",
       "      <td>27.40%</td>\n",
       "      <td>0.537</td>\n",
       "      <td>0.327</td>\n",
       "    </tr>\n",
       "    <tr>\n",
       "      <th>1</th>\n",
       "      <td>ATLANTA</td>\n",
       "      <td>1985Q1</td>\n",
       "      <td>92880</td>\n",
       "      <td>67876</td>\n",
       "      <td>25003</td>\n",
       "      <td>26.90%</td>\n",
       "      <td>0.539</td>\n",
       "      <td>0.324</td>\n",
       "    </tr>\n",
       "    <tr>\n",
       "      <th>2</th>\n",
       "      <td>ATLANTA</td>\n",
       "      <td>1985Q2</td>\n",
       "      <td>92928</td>\n",
       "      <td>68491</td>\n",
       "      <td>24437</td>\n",
       "      <td>26.30%</td>\n",
       "      <td>0.539</td>\n",
       "      <td>0.319</td>\n",
       "    </tr>\n",
       "    <tr>\n",
       "      <th>3</th>\n",
       "      <td>ATLANTA</td>\n",
       "      <td>1985Q3</td>\n",
       "      <td>97008</td>\n",
       "      <td>69069</td>\n",
       "      <td>27939</td>\n",
       "      <td>28.80%</td>\n",
       "      <td>0.563</td>\n",
       "      <td>0.368</td>\n",
       "    </tr>\n",
       "    <tr>\n",
       "      <th>4</th>\n",
       "      <td>ATLANTA</td>\n",
       "      <td>1985Q4</td>\n",
       "      <td>98530</td>\n",
       "      <td>69601</td>\n",
       "      <td>28929</td>\n",
       "      <td>29.40%</td>\n",
       "      <td>0.571</td>\n",
       "      <td>0.384</td>\n",
       "    </tr>\n",
       "    <tr>\n",
       "      <th>...</th>\n",
       "      <td>...</td>\n",
       "      <td>...</td>\n",
       "      <td>...</td>\n",
       "      <td>...</td>\n",
       "      <td>...</td>\n",
       "      <td>...</td>\n",
       "      <td>...</td>\n",
       "      <td>...</td>\n",
       "    </tr>\n",
       "    <tr>\n",
       "      <th>6205</th>\n",
       "      <td>WASHINGTONDC</td>\n",
       "      <td>2017Q2</td>\n",
       "      <td>556626</td>\n",
       "      <td>272716</td>\n",
       "      <td>283910</td>\n",
       "      <td>51.00%</td>\n",
       "      <td>2.090</td>\n",
       "      <td>2.397</td>\n",
       "    </tr>\n",
       "    <tr>\n",
       "      <th>6206</th>\n",
       "      <td>WASHINGTONDC</td>\n",
       "      <td>2017Q3</td>\n",
       "      <td>558709</td>\n",
       "      <td>274045</td>\n",
       "      <td>284665</td>\n",
       "      <td>51.00%</td>\n",
       "      <td>2.097</td>\n",
       "      <td>2.406</td>\n",
       "    </tr>\n",
       "    <tr>\n",
       "      <th>6207</th>\n",
       "      <td>WASHINGTONDC</td>\n",
       "      <td>2017Q4</td>\n",
       "      <td>565120</td>\n",
       "      <td>275643</td>\n",
       "      <td>289476</td>\n",
       "      <td>51.20%</td>\n",
       "      <td>2.121</td>\n",
       "      <td>2.450</td>\n",
       "    </tr>\n",
       "    <tr>\n",
       "      <th>6208</th>\n",
       "      <td>WASHINGTONDC</td>\n",
       "      <td>2018Q1</td>\n",
       "      <td>570734</td>\n",
       "      <td>280434</td>\n",
       "      <td>290300</td>\n",
       "      <td>50.90%</td>\n",
       "      <td>2.142</td>\n",
       "      <td>2.460</td>\n",
       "    </tr>\n",
       "    <tr>\n",
       "      <th>6209</th>\n",
       "      <td>WASHINGTONDC</td>\n",
       "      <td>2018Q2</td>\n",
       "      <td>573452</td>\n",
       "      <td>285489</td>\n",
       "      <td>287963</td>\n",
       "      <td>50.20%</td>\n",
       "      <td>2.153</td>\n",
       "      <td>2.444</td>\n",
       "    </tr>\n",
       "  </tbody>\n",
       "</table>\n",
       "<p>6210 rows × 8 columns</p>\n",
       "</div>"
      ],
      "text/plain": [
       "               MSA    Date  Home Value  Structure Cost  Land Value  \\\n",
       "0          ATLANTA  1984Q4       92559           67164       25394   \n",
       "1          ATLANTA  1985Q1       92880           67876       25003   \n",
       "2          ATLANTA  1985Q2       92928           68491       24437   \n",
       "3          ATLANTA  1985Q3       97008           69069       27939   \n",
       "4          ATLANTA  1985Q4       98530           69601       28929   \n",
       "...            ...     ...         ...             ...         ...   \n",
       "6205  WASHINGTONDC  2017Q2      556626          272716      283910   \n",
       "6206  WASHINGTONDC  2017Q3      558709          274045      284665   \n",
       "6207  WASHINGTONDC  2017Q4      565120          275643      289476   \n",
       "6208  WASHINGTONDC  2018Q1      570734          280434      290300   \n",
       "6209  WASHINGTONDC  2018Q2      573452          285489      287963   \n",
       "\n",
       "     Land Share (Pct)  Home Price Index  Land Price Index  \n",
       "0              27.40%             0.537             0.327  \n",
       "1              26.90%             0.539             0.324  \n",
       "2              26.30%             0.539             0.319  \n",
       "3              28.80%             0.563             0.368  \n",
       "4              29.40%             0.571             0.384  \n",
       "...               ...               ...               ...  \n",
       "6205           51.00%             2.090             2.397  \n",
       "6206           51.00%             2.097             2.406  \n",
       "6207           51.20%             2.121             2.450  \n",
       "6208           50.90%             2.142             2.460  \n",
       "6209           50.20%             2.153             2.444  \n",
       "\n",
       "[6210 rows x 8 columns]"
      ]
     },
     "execution_count": 8,
     "metadata": {},
     "output_type": "execute_result"
    }
   ],
   "source": [
    "df"
   ]
  },
  {
   "cell_type": "code",
   "execution_count": 9,
   "metadata": {},
   "outputs": [],
   "source": [
    "features_considered=['MSA','Home Value']"
   ]
  },
  {
   "cell_type": "code",
   "execution_count": 10,
   "metadata": {},
   "outputs": [
    {
     "data": {
      "text/html": [
       "<div>\n",
       "<style scoped>\n",
       "    .dataframe tbody tr th:only-of-type {\n",
       "        vertical-align: middle;\n",
       "    }\n",
       "\n",
       "    .dataframe tbody tr th {\n",
       "        vertical-align: top;\n",
       "    }\n",
       "\n",
       "    .dataframe thead th {\n",
       "        text-align: right;\n",
       "    }\n",
       "</style>\n",
       "<table border=\"1\" class=\"dataframe\">\n",
       "  <thead>\n",
       "    <tr style=\"text-align: right;\">\n",
       "      <th></th>\n",
       "      <th>MSA</th>\n",
       "      <th>Home Value</th>\n",
       "    </tr>\n",
       "    <tr>\n",
       "      <th>Date</th>\n",
       "      <th></th>\n",
       "      <th></th>\n",
       "    </tr>\n",
       "  </thead>\n",
       "  <tbody>\n",
       "    <tr>\n",
       "      <th>1984Q4</th>\n",
       "      <td>ATLANTA</td>\n",
       "      <td>92559</td>\n",
       "    </tr>\n",
       "    <tr>\n",
       "      <th>1985Q1</th>\n",
       "      <td>ATLANTA</td>\n",
       "      <td>92880</td>\n",
       "    </tr>\n",
       "    <tr>\n",
       "      <th>1985Q2</th>\n",
       "      <td>ATLANTA</td>\n",
       "      <td>92928</td>\n",
       "    </tr>\n",
       "    <tr>\n",
       "      <th>1985Q3</th>\n",
       "      <td>ATLANTA</td>\n",
       "      <td>97008</td>\n",
       "    </tr>\n",
       "    <tr>\n",
       "      <th>1985Q4</th>\n",
       "      <td>ATLANTA</td>\n",
       "      <td>98530</td>\n",
       "    </tr>\n",
       "  </tbody>\n",
       "</table>\n",
       "</div>"
      ],
      "text/plain": [
       "            MSA  Home Value\n",
       "Date                       \n",
       "1984Q4  ATLANTA       92559\n",
       "1985Q1  ATLANTA       92880\n",
       "1985Q2  ATLANTA       92928\n",
       "1985Q3  ATLANTA       97008\n",
       "1985Q4  ATLANTA       98530"
      ]
     },
     "execution_count": 10,
     "metadata": {},
     "output_type": "execute_result"
    }
   ],
   "source": [
    "features = df[features_considered]\n",
    "features.index = df['Date']\n",
    "features.head()"
   ]
  },
  {
   "cell_type": "code",
   "execution_count": 11,
   "metadata": {},
   "outputs": [
    {
     "data": {
      "text/plain": [
       "array([<matplotlib.axes._subplots.AxesSubplot object at 0x000001D4F70263C8>],\n",
       "      dtype=object)"
      ]
     },
     "execution_count": 11,
     "metadata": {},
     "output_type": "execute_result"
    },
    {
     "data": {
      "image/png": "[encoded data removed]",
      "text/plain": [
       "<Figure size 432x288 with 1 Axes>"
      ]
     },
     "metadata": {
      "needs_background": "light"
     },
     "output_type": "display_data"
    }
   ],
   "source": [
    "features.plot(subplots=True)"
   ]
  },
  {
   "cell_type": "code",
   "execution_count": 12,
   "metadata": {},
   "outputs": [],
   "source": [
    "TRAIN_SPLIT = 4000"
   ]
  },
  {
   "cell_type": "code",
   "execution_count": 13,
   "metadata": {},
   "outputs": [],
   "source": [
    "tf.random.set_seed(13)"
   ]
  },
  {
   "cell_type": "code",
   "execution_count": 14,
   "metadata": {},
   "outputs": [],
   "source": [
    "#dataset = features.values\n",
    "#data_mean = dataset[:TRAIN_SPLIT].mean(axis=0)\n",
    "#data_std = dataset[:TRAIN_SPLIT].std(axis=0)"
   ]
  },
  {
   "cell_type": "code",
   "execution_count": 15,
   "metadata": {},
   "outputs": [
    {
     "data": {
      "text/plain": [
       "Date\n",
       "1984Q4    92559\n",
       "1985Q1    92880\n",
       "1985Q2    92928\n",
       "1985Q3    97008\n",
       "1985Q4    98530\n",
       "Name: Home Value, dtype: int64"
      ]
     },
     "execution_count": 15,
     "metadata": {},
     "output_type": "execute_result"
    }
   ],
   "source": [
    "uni_data = df['Home Value']\n",
    "uni_data.index = df['Date']\n",
    "uni_data.head()"
   ]
  },
  {
   "cell_type": "code",
   "execution_count": 16,
   "metadata": {},
   "outputs": [
    {
     "data": {
      "text/plain": [
       "array([<matplotlib.axes._subplots.AxesSubplot object at 0x000001D4F9151438>],\n",
       "      dtype=object)"
      ]
     },
     "execution_count": 16,
     "metadata": {},
     "output_type": "execute_result"
    },
    {
     "data": {
      "image/png": "[encoded data removed]",
      "text/plain": [
       "<Figure size 432x288 with 1 Axes>"
      ]
     },
     "metadata": {
      "needs_background": "light"
     },
     "output_type": "display_data"
    }
   ],
   "source": [
    "uni_data.plot(subplots=True)"
   ]
  },
  {
   "cell_type": "code",
   "execution_count": 17,
   "metadata": {},
   "outputs": [],
   "source": [
    "uni_data = uni_data.values"
   ]
  },
  {
   "cell_type": "code",
   "execution_count": 18,
   "metadata": {},
   "outputs": [],
   "source": [
    "uni_train_mean = uni_data[:TRAIN_SPLIT].mean()\n",
    "uni_train_std = uni_data[:TRAIN_SPLIT].std()"
   ]
  },
  {
   "cell_type": "code",
   "execution_count": 19,
   "metadata": {},
   "outputs": [],
   "source": [
    "uni_data = (uni_data-uni_train_mean)/uni_train_std"
   ]
  },
  {
   "cell_type": "code",
   "execution_count": 20,
   "metadata": {},
   "outputs": [],
   "source": [
    "def univariate_data(dataset, start_index, end_index, history_size, target_size):\n",
    "  data = []\n",
    "  labels = []\n",
    "\n",
    "  start_index = start_index + history_size\n",
    "  if end_index is None:\n",
    "    end_index = len(dataset) - target_size\n",
    "\n",
    "  for i in range(start_index, end_index):\n",
    "    indices = range(i-history_size, i)\n",
    "    # Reshape data from (history_size,) to (history_size, 1)\n",
    "    data.append(np.reshape(dataset[indices], (history_size, 1)))\n",
    "    labels.append(dataset[i+target_size])\n",
    "  return np.array(data), np.array(labels)"
   ]
  },
  {
   "cell_type": "code",
   "execution_count": 21,
   "metadata": {},
   "outputs": [],
   "source": [
    "univariate_past_history = 100\n",
    "univariate_future_target = 0\n",
    "\n",
    "x_train_uni, y_train_uni = univariate_data(uni_data, 0, TRAIN_SPLIT,\n",
    "                                           univariate_past_history,\n",
    "                                           univariate_future_target)\n",
    "x_val_uni, y_val_uni = univariate_data(uni_data, TRAIN_SPLIT, None,\n",
    "                                       univariate_past_history,\n",
    "                                       univariate_future_target)"
   ]
  },
  {
   "cell_type": "code",
   "execution_count": 22,
   "metadata": {},
   "outputs": [
    {
     "data": {
      "text/plain": [
       "MSA\n",
       "ATLANTA    92559\n",
       "ATLANTA    92880\n",
       "ATLANTA    92928\n",
       "ATLANTA    97008\n",
       "ATLANTA    98530\n",
       "Name: Home Value, dtype: int64"
      ]
     },
     "execution_count": 22,
     "metadata": {},
     "output_type": "execute_result"
    }
   ],
   "source": [
    "uni_data = df['Home Value','Structure Cost','Land Value','Home Price Index']\n",
    "uni_data.index = df['MSA']\n",
    "uni_data.head()"
   ]
  },
  {
   "cell_type": "code",
   "execution_count": 23,
   "metadata": {},
   "outputs": [],
   "source": [
    "#tf.gather_nd(\n",
    "    #'Home Value', 'MSA','Date', batch_dims=0, name=None\n",
    "#)"
   ]
  },
  {
   "cell_type": "code",
   "execution_count": 24,
   "metadata": {},
   "outputs": [
    {
     "data": {
      "text/plain": [
       "array([<matplotlib.axes._subplots.AxesSubplot object at 0x000001D4F91D07F0>],\n",
       "      dtype=object)"
      ]
     },
     "execution_count": 24,
     "metadata": {},
     "output_type": "execute_result"
    },
    {
     "data": {
      "image/png": "[encoded data removed]",
      "text/plain": [
       "<Figure size 432x288 with 1 Axes>"
      ]
     },
     "metadata": {
      "needs_background": "light"
     },
     "output_type": "display_data"
    }
   ],
   "source": [
    "uni_data.plot(subplots=True)"
   ]
  },
  {
   "cell_type": "code",
   "execution_count": 25,
   "metadata": {},
   "outputs": [],
   "source": [
    "uni_data = np.float32(uni_data.values)"
   ]
  },
  {
   "cell_type": "code",
   "execution_count": 26,
   "metadata": {},
   "outputs": [],
   "source": [
    "uni_train_mean = uni_data[:TRAIN_SPLIT].mean()\n",
    "uni_train_std = uni_data[:TRAIN_SPLIT].std()"
   ]
  },
  {
   "cell_type": "code",
   "execution_count": 27,
   "metadata": {},
   "outputs": [],
   "source": [
    "uni_data = (uni_data-uni_train_mean)/uni_train_std"
   ]
  },
  {
   "cell_type": "code",
   "execution_count": 28,
   "metadata": {},
   "outputs": [],
   "source": [
    "univariate_past_history = 100\n",
    "univariate_future_target = 0\n",
    "\n",
    "x_train_uni, y_train_uni = univariate_data(uni_data, 0, TRAIN_SPLIT,\n",
    "                                           univariate_past_history,\n",
    "                                           univariate_future_target)\n",
    "x_val_uni, y_val_uni = univariate_data(uni_data, TRAIN_SPLIT, None,\n",
    "                                       univariate_past_history,\n",
    "                                       univariate_future_target)"
   ]
  },
  {
   "cell_type": "code",
   "execution_count": 29,
   "metadata": {},
   "outputs": [
    {
     "data": {
      "text/plain": [
       "dtype('float32')"
      ]
     },
     "execution_count": 29,
     "metadata": {},
     "output_type": "execute_result"
    }
   ],
   "source": [
    "#x_train_uni.dtype\n",
    "y_train_uni.dtype\n"
   ]
  },
  {
   "cell_type": "code",
   "execution_count": 30,
   "metadata": {},
   "outputs": [
    {
     "name": "stdout",
     "output_type": "stream",
     "text": [
      "Single window of past history\n",
      "[[-0.8546]\n",
      " [-0.852 ]\n",
      " [-0.8517]\n",
      " [-0.8196]\n",
      " [-0.8076]\n",
      " [-0.7973]\n",
      " [-0.7852]\n",
      " [-0.7756]\n",
      " [-0.7635]\n",
      " [-0.7471]\n",
      " [-0.734 ]\n",
      " [-0.7228]\n",
      " [-0.7158]\n",
      " [-0.7033]\n",
      " [-0.6904]\n",
      " [-0.6875]\n",
      " [-0.6858]\n",
      " [-0.6777]\n",
      " [-0.6756]\n",
      " [-0.6668]\n",
      " [-0.6594]\n",
      " [-0.6618]\n",
      " [-0.6658]\n",
      " [-0.6664]\n",
      " [-0.6715]\n",
      " [-0.6711]\n",
      " [-0.666 ]\n",
      " [-0.6639]\n",
      " [-0.6629]\n",
      " [-0.6621]\n",
      " [-0.6593]\n",
      " [-0.6488]\n",
      " [-0.6474]\n",
      " [-0.6431]\n",
      " [-0.6305]\n",
      " [-0.6205]\n",
      " [-0.6111]\n",
      " [-0.5959]\n",
      " [-0.5882]\n",
      " [-0.5781]\n",
      " [-0.5647]\n",
      " [-0.5532]\n",
      " [-0.5512]\n",
      " [-0.542 ]\n",
      " [-0.5302]\n",
      " [-0.5178]\n",
      " [-0.5086]\n",
      " [-0.5012]\n",
      " [-0.4901]\n",
      " [-0.4819]\n",
      " [-0.469 ]\n",
      " [-0.4586]\n",
      " [-0.4432]\n",
      " [-0.4272]\n",
      " [-0.4057]\n",
      " [-0.3916]\n",
      " [-0.3692]\n",
      " [-0.3473]\n",
      " [-0.3265]\n",
      " [-0.3053]\n",
      " [-0.2813]\n",
      " [-0.2558]\n",
      " [-0.2263]\n",
      " [-0.2101]\n",
      " [-0.1916]\n",
      " [-0.1729]\n",
      " [-0.1554]\n",
      " [-0.137 ]\n",
      " [-0.1238]\n",
      " [-0.1102]\n",
      " [-0.1   ]\n",
      " [-0.0874]\n",
      " [-0.0746]\n",
      " [-0.0593]\n",
      " [-0.0506]\n",
      " [-0.0427]\n",
      " [-0.0292]\n",
      " [-0.0124]\n",
      " [ 0.0037]\n",
      " [ 0.0149]\n",
      " [ 0.0352]\n",
      " [ 0.0631]\n",
      " [ 0.0887]\n",
      " [ 0.0953]\n",
      " [ 0.1201]\n",
      " [ 0.1524]\n",
      " [ 0.1629]\n",
      " [ 0.1636]\n",
      " [ 0.1775]\n",
      " [ 0.1951]\n",
      " [ 0.195 ]\n",
      " [ 0.1699]\n",
      " [ 0.1427]\n",
      " [ 0.1053]\n",
      " [ 0.0501]\n",
      " [ 0.0057]\n",
      " [-0.0547]\n",
      " [-0.1439]\n",
      " [-0.186 ]\n",
      " [-0.1666]]\n",
      "\n",
      " Target Home Value to predict\n",
      "-0.14465657\n"
     ]
    }
   ],
   "source": [
    "print ('Single window of past history')\n",
    "print (x_train_uni[0])\n",
    "print ('\\n Target Home Value to predict')\n",
    "print (y_train_uni[0])"
   ]
  },
  {
   "cell_type": "code",
   "execution_count": 31,
   "metadata": {},
   "outputs": [],
   "source": [
    "def create_time_steps(length):\n",
    "  return list(range(-length, 0))"
   ]
  },
  {
   "cell_type": "code",
   "execution_count": 32,
   "metadata": {},
   "outputs": [],
   "source": [
    "def show_plot(plot_data, delta, title):\n",
    "  labels = ['History', 'True Future', 'Model Prediction']\n",
    "  marker = ['.-', 'rx', 'go']\n",
    "  time_steps = create_time_steps(plot_data[0].shape[0])\n",
    "  if delta:\n",
    "    future = delta\n",
    "  else:\n",
    "    future = 0\n",
    "\n",
    "  plt.title(title)\n",
    "  for i, x in enumerate(plot_data):\n",
    "    if i:\n",
    "      plt.plot(future, plot_data[i], marker[i], markersize=10,\n",
    "               label=labels[i])\n",
    "    else:\n",
    "      plt.plot(time_steps, plot_data[i].flatten(), marker[i], label=labels[i])\n",
    "  plt.legend()\n",
    "  plt.xlim([time_steps[0], (future+5)*2])\n",
    "  plt.xlabel('Time-Step')\n",
    "  return plt"
   ]
  },
  {
   "cell_type": "code",
   "execution_count": 33,
   "metadata": {},
   "outputs": [
    {
     "data": {
      "text/plain": [
       "<module 'matplotlib.pyplot' from 'C:\\\\Users\\\\khurd\\\\Anaconda3\\\\lib\\\\site-packages\\\\matplotlib\\\\pyplot.py'>"
      ]
     },
     "execution_count": 33,
     "metadata": {},
     "output_type": "execute_result"
    },
    {
     "data": {
      "image/png": "[encoded data removed]",
      "text/plain": [
       "<Figure size 432x288 with 1 Axes>"
      ]
     },
     "metadata": {
      "needs_background": "light"
     },
     "output_type": "display_data"
    }
   ],
   "source": [
    "show_plot([x_train_uni[0], y_train_uni[0]], 0, 'Sample Example')"
   ]
  },
  {
   "cell_type": "code",
   "execution_count": 34,
   "metadata": {},
   "outputs": [],
   "source": [
    "def baseline(history):\n",
    "  return np.mean(history)"
   ]
  },
  {
   "cell_type": "code",
   "execution_count": 35,
   "metadata": {},
   "outputs": [
    {
     "data": {
      "text/plain": [
       "<module 'matplotlib.pyplot' from 'C:\\\\Users\\\\khurd\\\\Anaconda3\\\\lib\\\\site-packages\\\\matplotlib\\\\pyplot.py'>"
      ]
     },
     "execution_count": 35,
     "metadata": {},
     "output_type": "execute_result"
    },
    {
     "data": {
      "image/png": "[encoded data removed]",
      "text/plain": [
       "<Figure size 432x288 with 1 Axes>"
      ]
     },
     "metadata": {
      "needs_background": "light"
     },
     "output_type": "display_data"
    }
   ],
   "source": [
    "show_plot([x_train_uni[0], y_train_uni[0], baseline(x_train_uni[0])], 0,\n",
    "           'Baseline Prediction Example')"
   ]
  },
  {
   "cell_type": "code",
   "execution_count": 36,
   "metadata": {},
   "outputs": [
    {
     "name": "stdout",
     "output_type": "stream",
     "text": [
      "(100, 1)\n",
      "(2110,)\n"
     ]
    }
   ],
   "source": [
    "BATCH_SIZE = 256\n",
    "BUFFER_SIZE = 10000\n",
    "\n",
    "train_univariate = tf.data.Dataset.from_tensor_slices((x_train_uni, y_train_uni))\n",
    "train_univariate = train_univariate.cache().shuffle(BUFFER_SIZE).batch(BATCH_SIZE).repeat()\n",
    "\n",
    "\n",
    "val_univariate = tf.data.Dataset.from_tensor_slices((x_val_uni, y_val_uni))\n",
    "val_univariate = val_univariate.batch(BATCH_SIZE).repeat()\n",
    "val_univariate\n",
    "y_val_uni\n",
    "print(x_val_uni.shape[-2:])\n",
    "print(y_val_uni.shape)"
   ]
  },
  {
   "cell_type": "code",
   "execution_count": 37,
   "metadata": {},
   "outputs": [],
   "source": [
    "simple_lstm_model = tf.keras.models.Sequential([\n",
    "    tf.keras.layers.LSTM(8, input_shape=x_train_uni.shape[-2:]),\n",
    "    tf.keras.layers.Dense(1)\n",
    "])\n",
    "\n",
    "simple_lstm_model.compile(optimizer='adam', loss='mae')"
   ]
  },
  {
   "cell_type": "code",
   "execution_count": 38,
   "metadata": {},
   "outputs": [
    {
     "name": "stdout",
     "output_type": "stream",
     "text": [
      "(256, 1)\n"
     ]
    }
   ],
   "source": [
    "\n",
    "for x, y in val_univariate.take(1):\n",
    "    x=np.float32(x)\n",
    "    print(simple_lstm_model.predict(x).shape)\n",
    "    "
   ]
  },
  {
   "cell_type": "code",
   "execution_count": 39,
   "metadata": {},
   "outputs": [
    {
     "name": "stdout",
     "output_type": "stream",
     "text": [
      "float32\n"
     ]
    }
   ],
   "source": [
    "print(x.dtype)"
   ]
  },
  {
   "cell_type": "code",
   "execution_count": 40,
   "metadata": {},
   "outputs": [
    {
     "name": "stdout",
     "output_type": "stream",
     "text": [
      "<TakeDataset shapes: ((None, 100, 1), (None,)), types: (tf.float32, tf.float32)>\n"
     ]
    }
   ],
   "source": [
    "print(val_univariate.take(1))"
   ]
  },
  {
   "cell_type": "code",
   "execution_count": 42,
   "metadata": {},
   "outputs": [
    {
     "name": "stdout",
     "output_type": "stream",
     "text": [
      "Train for 200 steps, validate for 50 steps\n",
      "Epoch 1/10\n",
      "200/200 [==============================] - 22s 108ms/step - loss: 0.0297 - val_loss: 0.0980\n",
      "Epoch 2/10\n",
      "200/200 [==============================] - 20s 102ms/step - loss: 0.0288 - val_loss: 0.0958\n",
      "Epoch 3/10\n",
      "200/200 [==============================] - 22s 111ms/step - loss: 0.0283 - val_loss: 0.0941\n",
      "Epoch 4/10\n",
      "200/200 [==============================] - 22s 108ms/step - loss: 0.0286 - val_loss: 0.0926\n",
      "Epoch 5/10\n",
      "200/200 [==============================] - 22s 109ms/step - loss: 0.0279 - val_loss: 0.0901\n",
      "Epoch 6/10\n",
      "200/200 [==============================] - 21s 105ms/step - loss: 0.0280 - val_loss: 0.0887\n",
      "Epoch 7/10\n",
      "200/200 [==============================] - 23s 114ms/step - loss: 0.0272 - val_loss: 0.0874\n",
      "Epoch 8/10\n",
      "200/200 [==============================] - 20s 99ms/step - loss: 0.0282 - val_loss: 0.0862\n",
      "Epoch 9/10\n",
      "200/200 [==============================] - 20s 98ms/step - loss: 0.0280 - val_loss: 0.0856\n",
      "Epoch 10/10\n",
      "200/200 [==============================] - 20s 102ms/step - loss: 0.0283 - val_loss: 0.0844\n"
     ]
    },
    {
     "data": {
      "text/plain": [
       "<tensorflow.python.keras.callbacks.History at 0x1d4f2b2ce80>"
      ]
     },
     "execution_count": 42,
     "metadata": {},
     "output_type": "execute_result"
    }
   ],
   "source": [
    "EVALUATION_INTERVAL = 200\n",
    "EPOCHS = 10\n",
    "\n",
    "simple_lstm_model.fit(train_univariate, epochs=EPOCHS,\n",
    "                      steps_per_epoch=EVALUATION_INTERVAL,\n",
    "                      validation_data=val_univariate, validation_steps=50)"
   ]
  },
  {
   "cell_type": "code",
   "execution_count": 43,
   "metadata": {},
   "outputs": [],
   "source": [
    "def plot_train_history(history, title):\n",
    "  loss = history.history['loss']\n",
    "  val_loss = history.history['val_loss']\n",
    "\n",
    "  epochs = range(len(loss))\n",
    "\n",
    "  plt.figure()\n",
    "\n",
    "  plt.plot(epochs, loss, 'b', label='Training loss')\n",
    "  plt.plot(epochs, val_loss, 'r', label='Validation loss')\n",
    "  plt.title(title)\n",
    "  plt.legend()\n",
    "\n",
    "  plt.show()"
   ]
  },
  {
   "cell_type": "code",
   "execution_count": 52,
   "metadata": {},
   "outputs": [
    {
     "name": "stdout",
     "output_type": "stream",
     "text": [
      "(1,)\n"
     ]
    },
    {
     "data": {
      "image/png": "[encoded data removed]",
      "text/plain": [
       "<Figure size 432x288 with 1 Axes>"
      ]
     },
     "metadata": {
      "needs_background": "light"
     },
     "output_type": "display_data"
    },
    {
     "name": "stdout",
     "output_type": "stream",
     "text": [
      "(1,)\n"
     ]
    },
    {
     "data": {
      "image/png": "[encoded data removed]",
      "text/plain": [
       "<Figure size 432x288 with 1 Axes>"
      ]
     },
     "metadata": {
      "needs_background": "light"
     },
     "output_type": "display_data"
    },
    {
     "name": "stdout",
     "output_type": "stream",
     "text": [
      "(1,)\n"
     ]
    },
    {
     "data": {
      "image/png": "[encoded data removed]",
      "text/plain": [
       "<Figure size 432x288 with 1 Axes>"
      ]
     },
     "metadata": {
      "needs_background": "light"
     },
     "output_type": "display_data"
    }
   ],
   "source": [
    "for x, y in val_univariate.take(3):\n",
    "  plot = show_plot([x[0].numpy(), y[0].numpy(),\n",
    "                    simple_lstm_model.predict(x)[0]], 12,\n",
    "                   'Single Step Prediction')\n",
    "  print(simple_lstm_model.predict(x).shape)\n",
    "  \n",
    "  plot.show()\n"
   ]
  },
  {
   "cell_type": "code",
   "execution_count": null,
   "metadata": {},
   "outputs": [],
   "source": []
  }
 ],
 "metadata": {
  "kernelspec": {
   "display_name": "Python 3",
   "language": "python",
   "name": "python3"
  },
  "language_info": {
   "codemirror_mode": {
    "name": "ipython",
    "version": 3
   },
   "file_extension": ".py",
   "mimetype": "text/x-python",
   "name": "python",
   "nbconvert_exporter": "python",
   "pygments_lexer": "ipython3",
   "version": "3.6.10"
  }
 },
 "nbformat": 4,
 "nbformat_minor": 4
}
