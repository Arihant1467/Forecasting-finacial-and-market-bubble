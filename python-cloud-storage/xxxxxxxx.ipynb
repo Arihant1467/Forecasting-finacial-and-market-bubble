{
 "cells": [
  {
   "cell_type": "code",
   "execution_count": 1,
   "metadata": {},
   "outputs": [],
   "source": [
    "import pandas as pd\n",
    "\n",
    "df = pd.read_csv(\"City_Zhvi_AllHomes.csv\")"
   ]
  },
  {
   "cell_type": "code",
   "execution_count": 3,
   "metadata": {},
   "outputs": [
    {
     "data": {
      "text/html": [
       "<div>\n",
       "<style scoped>\n",
       "    .dataframe tbody tr th:only-of-type {\n",
       "        vertical-align: middle;\n",
       "    }\n",
       "\n",
       "    .dataframe tbody tr th {\n",
       "        vertical-align: top;\n",
       "    }\n",
       "\n",
       "    .dataframe thead th {\n",
       "        text-align: right;\n",
       "    }\n",
       "</style>\n",
       "<table border=\"1\" class=\"dataframe\">\n",
       "  <thead>\n",
       "    <tr style=\"text-align: right;\">\n",
       "      <th></th>\n",
       "      <th>RegionID</th>\n",
       "      <th>SizeRank</th>\n",
       "      <th>RegionName</th>\n",
       "      <th>RegionType</th>\n",
       "      <th>StateName</th>\n",
       "      <th>State</th>\n",
       "      <th>Metro</th>\n",
       "      <th>CountyName</th>\n",
       "      <th>1996-01-31</th>\n",
       "      <th>1996-02-29</th>\n",
       "      <th>...</th>\n",
       "      <th>2019-06-30</th>\n",
       "      <th>2019-07-31</th>\n",
       "      <th>2019-08-31</th>\n",
       "      <th>2019-09-30</th>\n",
       "      <th>2019-10-31</th>\n",
       "      <th>2019-11-30</th>\n",
       "      <th>2019-12-31</th>\n",
       "      <th>2020-01-31</th>\n",
       "      <th>2020-02-29</th>\n",
       "      <th>2020-03-31</th>\n",
       "    </tr>\n",
       "  </thead>\n",
       "  <tbody>\n",
       "    <tr>\n",
       "      <th>0</th>\n",
       "      <td>6181</td>\n",
       "      <td>0</td>\n",
       "      <td>New York</td>\n",
       "      <td>City</td>\n",
       "      <td>NY</td>\n",
       "      <td>NY</td>\n",
       "      <td>New York-Newark-Jersey City</td>\n",
       "      <td>Queens County</td>\n",
       "      <td>196258.0</td>\n",
       "      <td>195693.0</td>\n",
       "      <td>...</td>\n",
       "      <td>659421.0</td>\n",
       "      <td>659007.0</td>\n",
       "      <td>658239.0</td>\n",
       "      <td>656925.0</td>\n",
       "      <td>655613.0</td>\n",
       "      <td>654394.0</td>\n",
       "      <td>653930.0</td>\n",
       "      <td>653901.0</td>\n",
       "      <td>653565.0</td>\n",
       "      <td>652307.0</td>\n",
       "    </tr>\n",
       "    <tr>\n",
       "      <th>1</th>\n",
       "      <td>12447</td>\n",
       "      <td>1</td>\n",
       "      <td>Los Angeles</td>\n",
       "      <td>City</td>\n",
       "      <td>CA</td>\n",
       "      <td>CA</td>\n",
       "      <td>Los Angeles-Long Beach-Anaheim</td>\n",
       "      <td>Los Angeles County</td>\n",
       "      <td>185649.0</td>\n",
       "      <td>185625.0</td>\n",
       "      <td>...</td>\n",
       "      <td>712660.0</td>\n",
       "      <td>713807.0</td>\n",
       "      <td>715688.0</td>\n",
       "      <td>718245.0</td>\n",
       "      <td>721896.0</td>\n",
       "      <td>725180.0</td>\n",
       "      <td>730358.0</td>\n",
       "      <td>735910.0</td>\n",
       "      <td>744137.0</td>\n",
       "      <td>752508.0</td>\n",
       "    </tr>\n",
       "    <tr>\n",
       "      <th>2</th>\n",
       "      <td>39051</td>\n",
       "      <td>2</td>\n",
       "      <td>Houston</td>\n",
       "      <td>City</td>\n",
       "      <td>TX</td>\n",
       "      <td>TX</td>\n",
       "      <td>Houston-The Woodlands-Sugar Land</td>\n",
       "      <td>Harris County</td>\n",
       "      <td>93518.0</td>\n",
       "      <td>93633.0</td>\n",
       "      <td>...</td>\n",
       "      <td>186844.0</td>\n",
       "      <td>187464.0</td>\n",
       "      <td>188070.0</td>\n",
       "      <td>188496.0</td>\n",
       "      <td>189125.0</td>\n",
       "      <td>189612.0</td>\n",
       "      <td>190179.0</td>\n",
       "      <td>190395.0</td>\n",
       "      <td>190938.0</td>\n",
       "      <td>191907.0</td>\n",
       "    </tr>\n",
       "  </tbody>\n",
       "</table>\n",
       "<p>3 rows × 299 columns</p>\n",
       "</div>"
      ],
      "text/plain": [
       "   RegionID  SizeRank   RegionName RegionType StateName State  \\\n",
       "0      6181         0     New York       City        NY    NY   \n",
       "1     12447         1  Los Angeles       City        CA    CA   \n",
       "2     39051         2      Houston       City        TX    TX   \n",
       "\n",
       "                              Metro          CountyName  1996-01-31  \\\n",
       "0       New York-Newark-Jersey City       Queens County    196258.0   \n",
       "1    Los Angeles-Long Beach-Anaheim  Los Angeles County    185649.0   \n",
       "2  Houston-The Woodlands-Sugar Land       Harris County     93518.0   \n",
       "\n",
       "   1996-02-29  ...  2019-06-30  2019-07-31  2019-08-31  2019-09-30  \\\n",
       "0    195693.0  ...    659421.0    659007.0    658239.0    656925.0   \n",
       "1    185625.0  ...    712660.0    713807.0    715688.0    718245.0   \n",
       "2     93633.0  ...    186844.0    187464.0    188070.0    188496.0   \n",
       "\n",
       "   2019-10-31  2019-11-30  2019-12-31  2020-01-31  2020-02-29  2020-03-31  \n",
       "0    655613.0    654394.0    653930.0    653901.0    653565.0    652307.0  \n",
       "1    721896.0    725180.0    730358.0    735910.0    744137.0    752508.0  \n",
       "2    189125.0    189612.0    190179.0    190395.0    190938.0    191907.0  \n",
       "\n",
       "[3 rows x 299 columns]"
      ]
     },
     "execution_count": 3,
     "metadata": {},
     "output_type": "execute_result"
    }
   ],
   "source": [
    "df.head(3)"
   ]
  },
  {
   "cell_type": "code",
   "execution_count": 4,
   "metadata": {
    "scrolled": true
   },
   "outputs": [
    {
     "data": {
      "text/plain": [
       "Franklin        30\n",
       "Clinton         27\n",
       "Springfield     26\n",
       "Washington      25\n",
       "Madison         23\n",
       "                ..\n",
       "Atlantis         1\n",
       "Bringhurst       1\n",
       "Weleetka         1\n",
       "Norridgewock     1\n",
       "Redstone         1\n",
       "Name: RegionName, Length: 17616, dtype: int64"
      ]
     },
     "execution_count": 4,
     "metadata": {},
     "output_type": "execute_result"
    }
   ],
   "source": [
    "df[\"RegionName\"].value_counts()"
   ]
  },
  {
   "cell_type": "code",
   "execution_count": 7,
   "metadata": {},
   "outputs": [],
   "source": [
    "X = df.to_numpy()"
   ]
  },
  {
   "cell_type": "code",
   "execution_count": null,
   "metadata": {},
   "outputs": [],
   "source": [
    "from sklearn.cross_validation import train_test_split\n",
    "\n"
   ]
  }
 ],
 "metadata": {
  "kernelspec": {
   "display_name": "Python 3",
   "language": "python",
   "name": "python3"
  },
  "language_info": {
   "codemirror_mode": {
    "name": "ipython",
    "version": 3
   },
   "file_extension": ".py",
   "mimetype": "text/x-python",
   "name": "python",
   "nbconvert_exporter": "python",
   "pygments_lexer": "ipython3",
   "version": "3.7.7"
  }
 },
 "nbformat": 4,
 "nbformat_minor": 4
}
